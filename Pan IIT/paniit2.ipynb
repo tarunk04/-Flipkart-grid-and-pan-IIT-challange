{
 "cells": [
  {
   "cell_type": "code",
   "execution_count": 1,
   "metadata": {},
   "outputs": [
    {
     "name": "stderr",
     "output_type": "stream",
     "text": [
      "Using TensorFlow backend.\n"
     ]
    }
   ],
   "source": [
    "# from keras.models import Sequential\n",
    "# from keras.layers import Dense, Conv2D, Flatten\n",
    "# from keras.models import Sequential\n",
    "# from keras.layers import Dense, Dropout, Flatten\n",
    "# from keras.layers import Conv2D, MaxPooling2D\n",
    "# import keras\n",
    "\n",
    "\n",
    "# Convolutional Neural Network\n",
    "from keras.utils import plot_model\n",
    "from keras.models import Model\n",
    "from keras.layers import Input\n",
    "from keras.layers import Dense\n",
    "from keras.layers import Flatten\n",
    "from keras.layers import Dropout\n",
    "from keras.layers.convolutional import Conv2D\n",
    "from keras.layers.pooling import MaxPooling2D\n",
    "\n",
    "# Helper libraries\n",
    "import numpy as np\n",
    "import matplotlib.pyplot as plt\n",
    "%matplotlib inline\n",
    "\n",
    "import cv2\n",
    "\n",
    "import pandas as pd\n",
    "import scipy.io as sio\n",
    "from keras.models import load_model\n",
    "from keras.preprocessing.image import ImageDataGenerator\n",
    "from PIL import Image"
   ]
  },
  {
   "cell_type": "code",
   "execution_count": 2,
   "metadata": {},
   "outputs": [],
   "source": [
    "data = pd.read_csv(\"data/training/solution.csv\", index_col=0)\n",
    "lable = np.asarray(data)\n",
    "lable = lable-1"
   ]
  },
  {
   "cell_type": "code",
   "execution_count": 52,
   "metadata": {},
   "outputs": [
    {
     "data": {
      "image/png": "[encoded data removed]",
      "text/plain": [
       "<matplotlib.figure.Figure at 0x11b802f2630>"
      ]
     },
     "metadata": {},
     "output_type": "display_data"
    }
   ],
   "source": [
    "m = cv2.imread('data/training/training/6.png' , 1)\n",
    "m = cv2.cvtColor(m, cv2.COLOR_BGR2GRAY)\n",
    "\n",
    "ret , m= cv2.threshold(m, 0, 1, cv2.THRESH_BINARY)\n",
    "m = cv2.bitwise_not(m)\n",
    "m = cv2.medianBlur(m, 3)\n",
    "kernel = np.ones((3,3),np.uint8)\n",
    "m = cv2.dilate(m,kernel,iterations = 1)\n",
    "m = cv2.medianBlur(m, 3)\n",
    "height = m.shape[0]\n",
    "width = m.shape[1]\n",
    "if(height<width):\n",
    "    diff = int((width - height)/2)\n",
    "    m1 = cv2.copyMakeBorder(m, diff,diff,0,0,cv2.BORDER_CONSTANT, value = 254)\n",
    "elif(height>width):\n",
    "    diff = int((height - width)/2)\n",
    "    m1 = cv2.copyMakeBorder(m,0,0,diff,diff,cv2.BORDER_CONSTANT, value = 254)\n",
    "else:\n",
    "    m1 = m\n",
    "m1 =  m1[60:m1.shape[0]-60,60:m1.shape[1]-60]  \n",
    "kernel = np.ones((3,3),np.uint8)\n",
    "m1 = cv2.dilate(m1,kernel,iterations = 1)\n",
    "# m1 = Image.fromarray(m1)\n",
    "# m1 = m1.resize((150,150), Image.ANTIALIAS)\n",
    "# m1 = np.asarray(m1)\n",
    "kernel = np.ones((2,2),np.uint8)\n",
    "m1 = cv2.dilate(m1,kernel,iterations = 1)\n",
    "# m1 = cv2.bitwise_not(m1)\n",
    "m1 = cv2.resize(m1,(150,150))\n",
    "plt.figure(figsize=(6,10))\n",
    "plt.imshow(m1 , cmap=plt.cm.binary)\n",
    "#m[m > 10] = 255\n",
    "\n",
    "\n",
    "plt.show()"
   ]
  },
  {
   "cell_type": "code",
   "execution_count": 3,
   "metadata": {},
   "outputs": [
    {
     "name": "stdout",
     "output_type": "stream",
     "text": [
      "Check :  500\n",
      "Check :  1000\n",
      "Check :  1500\n",
      "Check :  2000\n",
      "Check :  2500\n",
      "Check :  3000\n",
      "Check :  3500\n",
      "Check :  4000\n",
      "Check :  4500\n",
      "Check :  5000\n"
     ]
    }
   ],
   "source": [
    "data_train = []\n",
    "for i in range(1,5001):\n",
    "    m = cv2.imread('data/training/training/'+str(i)+'.png' , 1)\n",
    "    m = cv2.cvtColor(m, cv2.COLOR_BGR2GRAY)\n",
    "\n",
    "    ret , m= cv2.threshold(m, 0, 1, cv2.THRESH_BINARY)\n",
    "    m = cv2.bitwise_not(m)\n",
    "    m = cv2.medianBlur(m, 3)\n",
    "    kernel = np.ones((3,3),np.uint8)\n",
    "    m = cv2.dilate(m,kernel,iterations = 1)\n",
    "    m = cv2.medianBlur(m, 3)\n",
    "    height = m.shape[0]\n",
    "    width = m.shape[1]\n",
    "    if(height<width):\n",
    "        diff = int((width - height)/2)\n",
    "        m1 = cv2.copyMakeBorder(m, diff,diff,0,0,cv2.BORDER_CONSTANT, value = 254)\n",
    "    elif(height>width):\n",
    "        diff = int((height - width)/2)\n",
    "        m1 = cv2.copyMakeBorder(m,0,0,diff,diff,cv2.BORDER_CONSTANT, value = 254)\n",
    "    else:\n",
    "        m1 = m\n",
    "    m1 =  m1[60:m1.shape[0]-60,60:m1.shape[1]-60]  \n",
    "    kernel = np.ones((3,3),np.uint8)\n",
    "    m1 = cv2.dilate(m1,kernel,iterations = 1)\n",
    "    m1 = Image.fromarray(m1)\n",
    "    m1 = m1.resize((150,150), Image.ANTIALIAS)\n",
    "    m1 = np.asarray(m1)\n",
    "    kernel = np.ones((2,2),np.uint8)\n",
    "    m1 = cv2.dilate(m1,kernel,iterations = 1)\n",
    "#     m1 = cv2.bitwise_not(m1)\n",
    "    m1 = cv2.resize(m1,(150,150))\n",
    "    \n",
    "    m1 = m1.reshape((150,150,1))\n",
    "    if i%500 == 0:\n",
    "        print(\"Check : \" , i)\n",
    "    \n",
    "    data_train.append(m1)\n",
    "    \n",
    "data_t = np.asarray(data_train)"
   ]
  },
  {
   "cell_type": "code",
   "execution_count": 17,
   "metadata": {},
   "outputs": [],
   "source": [
    "sio.savemat('data/load/data_new.mat', {\"data\":data_t})"
   ]
  },
  {
   "cell_type": "code",
   "execution_count": 4,
   "metadata": {},
   "outputs": [],
   "source": [
    "#data_t = sio.loadmat('data/load/data_new.mat')['data']\n",
    "#data_t = sio.loadmat('data/load/data_b.mat')['data']\n",
    "#data_t = sio.loadmat('data/load/data_low_noise.mat')['data']\n",
    "#data_t = sio.loadmat('data/load/data_wb.mat')['data']\n",
    "\n",
    "X_t = data_t.reshape(5000,150,150,1)[0:4500]/255\n",
    "y_t = lable[0:4500]\n",
    "\n",
    "X_ts = data_t.reshape(5000,150,150,1)[4500:5000] /255\n",
    "y_ts = lable[4500:5000]\n",
    "\n",
    "# train_m = X_train.mean(axis=0)\n",
    "# train_s = X_train.std(axis=0)\n",
    "\n",
    "# X_train1 = (X_train - train_m)/train_s\n",
    "# X_test1 = (X_test - train_m)/train_s"
   ]
  },
  {
   "cell_type": "code",
   "execution_count": 4,
   "metadata": {},
   "outputs": [
    {
     "data": {
      "text/plain": [
       "(4500, 150, 150, 1)"
      ]
     },
     "execution_count": 4,
     "metadata": {},
     "output_type": "execute_result"
    }
   ],
   "source": []
  },
  {
   "cell_type": "code",
   "execution_count": 16,
   "metadata": {},
   "outputs": [],
   "source": [
    "model = load_model('models/paniit_final_95.65_g.h5')\n",
    "# model.summary()"
   ]
  },
  {
   "cell_type": "code",
   "execution_count": 5,
   "metadata": {},
   "outputs": [],
   "source": [
    "# model = Sequential()\n",
    "# model.add(Conv2D(32, (3, 3), padding='same', activation='relu', input_shape=(150,150,1)))\n",
    "# model.add(Conv2D(32, (5, 5), activation='relu'))\n",
    "# model.add(MaxPooling2D(pool_size=(2, 2)))\n",
    "# model.add(Dropout(0.3))\n",
    "\n",
    "# model.add(Conv2D(64, (3, 3), padding='same', activation='relu'))\n",
    "# model.add(Conv2D(64, (5, 5), activation='relu'))\n",
    "# model.add(MaxPooling2D(pool_size=(2, 2)))\n",
    "# model.add(Dropout(0.3))\n",
    "\n",
    "# model.add(Conv2D(64, (3, 3), padding='same', activation='relu'))\n",
    "# model.add(Conv2D(64, (5, 5), activation='relu'))\n",
    "# model.add(MaxPooling2D(pool_size=(2, 2)))\n",
    "# model.add(Dropout(0.3))\n",
    "\n",
    "# model.add(Flatten())\n",
    "# model.add(Dropout(0.5))\n",
    "# model.add(Dense(512, activation='relu'))\n",
    "# model.add(Dropout(0.5))\n",
    "# model.add(Dense(64, activation='relu'))\n",
    "# model.add(Dropout(0.5))\n",
    "# model.add(Dense(16, activation='relu'))\n",
    "# model.add(Dense(6, activation='softmax'))\n",
    "\n",
    "# model.compile(optimizer='Adadelta', loss='sparse_categorical_crossentropy', metrics=['accuracy'])\n",
    "\n",
    "\n",
    "visible = Input(shape=(150,150,1))\n",
    "conv1 = Conv2D(16, kernel_size=4, activation='relu')(visible)\n",
    "conv2 = Conv2D(16, kernel_size=4, activation='relu')(conv1)\n",
    "pool1 = MaxPooling2D(pool_size=(2, 2))(conv2)\n",
    "drop1 = Dropout(0.5)(pool1)\n",
    "\n",
    "conv3 = Conv2D(32, kernel_size=4, activation='relu')(drop1)\n",
    "conv4 = Conv2D(32, kernel_size=4, activation='relu')(conv3)\n",
    "pool2 = MaxPooling2D(pool_size=(2, 2))(conv4)\n",
    "drop2 = Dropout(0.5)(pool2)\n",
    "\n",
    "# conv5 = Conv2D(64, kernel_size=4, activation='relu')(drop2)\n",
    "# conv6 = Conv2D(64, kernel_size=4, activation='relu')(conv5)\n",
    "# pool3 = MaxPooling2D(pool_size=(2, 2))(conv6)\n",
    "# drop3 = Dropout(0.5)(pool3)\n",
    "\n",
    "\n",
    "flat = Flatten()(drop2)\n",
    "hidden1 = Dense(512, activation='relu')(flat)\n",
    "drop4 = Dropout(0.5)(hidden1)\n",
    "hidden2 = Dense(16, activation='relu')(drop4)\n",
    "output = Dense(6, activation='sigmoid')(hidden2)\n",
    "model = Model(inputs=visible, outputs=output)\n",
    "model.compile(optimizer='rmsprop', loss='sparse_categorical_crossentropy', metrics=['accuracy'])"
   ]
  },
  {
   "cell_type": "code",
   "execution_count": null,
   "metadata": {},
   "outputs": [
    {
     "name": "stdout",
     "output_type": "stream",
     "text": [
      "Train on 4500 samples, validate on 500 samples\n",
      "Epoch 1/5\n",
      "4500/4500 [==============================] - 18s 4ms/step - loss: 1.8197 - acc: 0.1669 - val_loss: 1.7925 - val_acc: 0.1400\n",
      "Epoch 2/5\n",
      "4500/4500 [==============================] - 14s 3ms/step - loss: 1.7916 - acc: 0.1711 - val_loss: 1.7931 - val_acc: 0.1400\n",
      "Epoch 3/5\n",
      "4500/4500 [==============================] - 14s 3ms/step - loss: 1.7915 - acc: 0.1693 - val_loss: 1.7933 - val_acc: 0.1560\n",
      "Epoch 4/5\n",
      "1280/4500 [=======>......................] - ETA: 9s - loss: 1.7908 - acc: 0.1789"
     ]
    }
   ],
   "source": [
    "model.fit(X_t, y_t, epochs=5, verbose =1, validation_data=(X_ts, y_ts),batch_size= 32,shuffle=True,steps_per_epoch=None)"
   ]
  },
  {
   "cell_type": "code",
   "execution_count": 21,
   "metadata": {},
   "outputs": [
    {
     "name": "stdout",
     "output_type": "stream",
     "text": [
      "500/500 [==============================] - 1s 2ms/step\n",
      "Test accuracy: 0.15000000011920928\n"
     ]
    }
   ],
   "source": [
    "test_loss, test_acc = model.evaluate(X_test1, y_test)\n",
    "print('Test accuracy:', test_acc)"
   ]
  },
  {
   "cell_type": "code",
   "execution_count": 23,
   "metadata": {},
   "outputs": [
    {
     "name": "stdout",
     "output_type": "stream",
     "text": [
      "_________________________________________________________________\n",
      "Layer (type)                 Output Shape              Param #   \n",
      "=================================================================\n",
      "conv2d_16 (Conv2D)           (None, 150, 150, 32)      320       \n",
      "_________________________________________________________________\n",
      "conv2d_17 (Conv2D)           (None, 148, 148, 32)      9248      \n",
      "_________________________________________________________________\n",
      "max_pooling2d_7 (MaxPooling2 (None, 74, 74, 32)        0         \n",
      "_________________________________________________________________\n",
      "dropout_15 (Dropout)         (None, 74, 74, 32)        0         \n",
      "_________________________________________________________________\n",
      "conv2d_18 (Conv2D)           (None, 74, 74, 64)        18496     \n",
      "_________________________________________________________________\n",
      "conv2d_19 (Conv2D)           (None, 72, 72, 64)        36928     \n",
      "_________________________________________________________________\n",
      "max_pooling2d_8 (MaxPooling2 (None, 36, 36, 64)        0         \n",
      "_________________________________________________________________\n",
      "dropout_16 (Dropout)         (None, 36, 36, 64)        0         \n",
      "_________________________________________________________________\n",
      "conv2d_20 (Conv2D)           (None, 36, 36, 64)        36928     \n",
      "_________________________________________________________________\n",
      "conv2d_21 (Conv2D)           (None, 34, 34, 64)        36928     \n",
      "_________________________________________________________________\n",
      "max_pooling2d_9 (MaxPooling2 (None, 17, 17, 64)        0         \n",
      "_________________________________________________________________\n",
      "dropout_17 (Dropout)         (None, 17, 17, 64)        0         \n",
      "_________________________________________________________________\n",
      "flatten_6 (Flatten)          (None, 18496)             0         \n",
      "_________________________________________________________________\n",
      "dense_19 (Dense)             (None, 512)               9470464   \n",
      "_________________________________________________________________\n",
      "dropout_18 (Dropout)         (None, 512)               0         \n",
      "_________________________________________________________________\n",
      "dense_20 (Dense)             (None, 6)                 3078      \n",
      "=================================================================\n",
      "Total params: 9,612,390\n",
      "Trainable params: 9,612,390\n",
      "Non-trainable params: 0\n",
      "_________________________________________________________________\n"
     ]
    }
   ],
   "source": [
    "model.summary()"
   ]
  },
  {
   "cell_type": "code",
   "execution_count": 39,
   "metadata": {
    "scrolled": true
   },
   "outputs": [
    {
     "data": {
      "image/png": "[encoded data removed]",
      "text/plain": [
       "<matplotlib.figure.Figure at 0x11b85d3da90>"
      ]
     },
     "metadata": {},
     "output_type": "display_data"
    }
   ],
   "source": [
    "plt.figure(figsize=(16,20)) # width,height : (20,10) \n",
    "for i in range(20):\n",
    "    plt.subplot(5,4,i+1)\n",
    "    plt.xticks([])\n",
    "    plt.yticks([])\n",
    "    plt.imshow(data_t[i].reshape((150,150)), cmap=plt.cm.binary)\n",
    "    plt.xlabel(\"No.:\" +str(lable[i]))\n",
    "    plt.grid('off')"
   ]
  },
  {
   "cell_type": "code",
   "execution_count": null,
   "metadata": {},
   "outputs": [],
   "source": []
  }
 ],
 "metadata": {
  "kernelspec": {
   "display_name": "Python 3",
   "language": "python",
   "name": "python3"
  },
  "language_info": {
   "codemirror_mode": {
    "name": "ipython",
    "version": 3
   },
   "file_extension": ".py",
   "mimetype": "text/x-python",
   "name": "python",
   "nbconvert_exporter": "python",
   "pygments_lexer": "ipython3",
   "version": "3.6.4"
  }
 },
 "nbformat": 4,
 "nbformat_minor": 2
}
